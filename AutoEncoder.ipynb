{
 "cells": [
  {
   "cell_type": "code",
   "execution_count": 8,
   "id": "5620dd39-c61a-4988-a7bb-d1998c75b1e1",
   "metadata": {},
   "outputs": [],
   "source": [
    "import torch, torchvision\n",
    "import torch.nn as nn\n",
    "from torchvision import transforms\n",
    "from tqdm import tqdm\n",
    "import PIL\n",
    "import cv2\n",
    "import numpy as np\n",
    "from IPython.display import display\n",
    "import matplotlib.pyplot as plt\n",
    "%matplotlib inline"
   ]
  },
  {
   "cell_type": "code",
   "execution_count": null,
   "id": "65dd20b6-fb00-47d9-aa45-5e6293990f4a",
   "metadata": {},
   "outputs": [],
   "source": [
    "# This notebook implements the AutoEncoder on the MNIST data. \n",
    "# Ayush Mittal (myself) is the author of this hobby experiments"
   ]
  },
  {
   "cell_type": "code",
   "execution_count": 2,
   "id": "fc74b075-19a1-4a56-9081-78ee17392a1a",
   "metadata": {},
   "outputs": [],
   "source": [
    "# define the dataset object\n",
    "\n",
    "device = [\"cuda\" if torch.cuda.is_available() else \"cpu\"][0]\n",
    "train_dataset = torchvision.datasets.MNIST(root = \"./\", train = True, transform = transforms.Compose(\n",
    "    [transforms.ToTensor(),\n",
    "    transforms.Normalize((0.1307,), (0.3081,))\n",
    "    ]\n",
    "))\n",
    "val_dataset = torchvision.datasets.MNIST(root = \"./\", train = False, download = True, transform = transforms.Compose(\n",
    "    [transforms.ToTensor(),\n",
    "    transforms.Normalize((0.1307,), (0.3081,))\n",
    "    ]))"
   ]
  },
  {
   "cell_type": "code",
   "execution_count": 13,
   "id": "7ffac5cc-b0da-47b1-931a-3528fd476295",
   "metadata": {},
   "outputs": [
    {
     "name": "stdout",
     "output_type": "stream",
     "text": [
      "torch.Size([4, 1, 28, 28])\n"
     ]
    }
   ],
   "source": [
    "# define the model architecture\n",
    "\n",
    "# -1, 1, 28, 28\n",
    "# -1, 8, 14, 14\n",
    "# -1, 16, 7, 7\n",
    "#-1,  32, 1, 1 \n",
    "\n",
    "class AE(nn.Module):\n",
    "    def __init__(self, latent_dim = 32):\n",
    "        super().__init__()\n",
    "\n",
    "        self.latent_dim = latent_dim\n",
    "\n",
    "        # encoder\n",
    "        Eblock = []\n",
    "        in_channels = 1\n",
    "        for i in range(3):\n",
    "            out_channels = 2**(3+i)\n",
    "            Eblock.append(nn.Sequential(\n",
    "                                        nn.Conv2d(in_channels, out_channels, kernel_size=3, stride=2),\n",
    "                                        nn.BatchNorm2d(out_channels),\n",
    "                                        nn.LeakyReLU(0.2, inplace=True)\n",
    "                                        ))\n",
    "            in_channels = out_channels\n",
    "\n",
    "        self.out_channels = out_channels\n",
    "        self.Encoder = nn.Sequential(*Eblock)\n",
    "\n",
    "        # latent variable via linear layer\n",
    "        self.linear_donw = nn.Sequential(\n",
    "                                    nn.Flatten(),\n",
    "                                    nn.Linear(128, self.latent_dim),\n",
    "                                    nn.BatchNorm1d(self.latent_dim),\n",
    "                                    nn.LeakyReLU(0.2, inplace=True)\n",
    "                                    )\n",
    "\n",
    "        self.linear_up = nn.Sequential(\n",
    "                                    nn.Flatten(),\n",
    "                                    nn.Linear(self.latent_dim, 128),\n",
    "                                    nn.BatchNorm1d(128),\n",
    "                                    nn.LeakyReLU(0.2, inplace=True)\n",
    "                                    \n",
    "                                    )\n",
    "        # Decoder\n",
    "        Dblock = []\n",
    "        param = np.array([[3,1,0],\n",
    "                          [3,2,1],\n",
    "                          [4,2,1],\n",
    "                          [4,2,1]])\n",
    "        in_channels = self.out_channels\n",
    "        for i in range(4):\n",
    "            out_channels = int(in_channels/2)\n",
    "            if i == 3:\n",
    "                out_channels = int(in_channels/4)\n",
    "            Dblock.append(nn.Sequential(\n",
    "                                        nn.ConvTranspose2d(in_channels, out_channels, kernel_size=param[i][0], stride=param[i][1], padding=param[i][2]),\n",
    "                                        nn.BatchNorm2d(out_channels),\n",
    "                                        nn.LeakyReLU(0.2, inplace=True)\n",
    "                                        #nn.Tanh()\n",
    "                                        ))\n",
    "            in_channels = out_channels\n",
    "        \n",
    "        self.Decoder = nn.Sequential(*Dblock)\n",
    "        \n",
    "    def forward(self,x):\n",
    "        x = self.Encoder(x)\n",
    "        x = self.linear_donw(x)\n",
    "        x = self.linear_up(x)\n",
    "        x = x.view(-1, 32, 2, 2)\n",
    "        x = self.Decoder(x)\n",
    "        return x\n",
    "\n",
    "model = AE(latent_dim = 32).to(device)\n",
    "\n",
    "print(model(torch.rand(4,1,28,28).to(device)).shape)"
   ]
  },
  {
   "cell_type": "code",
   "execution_count": 19,
   "id": "85949a08-77cf-4234-a020-d7eb3b2c7e67",
   "metadata": {},
   "outputs": [],
   "source": [
    "# setting up the hyperparams ;)\n",
    "epoch = 100\n",
    "batch_size = 64\n",
    "lr = 1e-4\n",
    "optimizer = torch.optim.Adam(model.parameters(), lr=lr)\n",
    "loss_fn = nn.MSELoss() #l2 loss for AE; l2 + KLD for VAE\n",
    "\n",
    "\n",
    "\n"
   ]
  },
  {
   "cell_type": "code",
   "execution_count": 20,
   "id": "6acf9827-6eb5-4130-9031-fc1a8f937e48",
   "metadata": {},
   "outputs": [],
   "source": [
    "# prepare the data loaders\n",
    "train_loader = torch.utils.data.DataLoader(train_dataset, batch_size = batch_size, shuffle= True, pin_memory=True)\n",
    "val_loader = torch.utils.data.DataLoader(train_dataset, batch_size = len(val_dataset), shuffle= False, pin_memory=True)"
   ]
  },
  {
   "cell_type": "code",
   "execution_count": 18,
   "id": "7eedb0d8-2807-4167-be47-485127df9375",
   "metadata": {},
   "outputs": [
    {
     "data": {
      "image/png": "[encoded data removed]",
      "text/plain": [
       "<Figure size 640x480 with 1 Axes>"
      ]
     },
     "metadata": {},
     "output_type": "display_data"
    }
   ],
   "source": [
    "# confirm the distribution of the input data to the model\n",
    "\n",
    "for (img, target) in train_loader:\n",
    "    img = img.numpy()\n",
    "    plt.hist(img.flatten())\n",
    "    break"
   ]
  },
  {
   "cell_type": "code",
   "execution_count": 21,
   "id": "248af39d-17f3-4e0a-bb41-7eaf5f407d51",
   "metadata": {},
   "outputs": [
    {
     "name": "stderr",
     "output_type": "stream",
     "text": [
      "  0%|                                                                                                                                                                                 | 0/100 [00:00<?, ?it/s]"
     ]
    },
    {
     "name": "stdout",
     "output_type": "stream",
     "text": [
      "Training Loss:0.6829405288622499\n"
     ]
    },
    {
     "name": "stderr",
     "output_type": "stream",
     "text": [
      "  1%|█▋                                                                                                                                                                       | 1/100 [00:35<58:42, 35.58s/it]"
     ]
    },
    {
     "name": "stdout",
     "output_type": "stream",
     "text": [
      "Validation Loss:0.45159798860549927\n",
      "Training Loss:0.40695815257481605\n"
     ]
    },
    {
     "name": "stderr",
     "output_type": "stream",
     "text": [
      "  2%|███▍                                                                                                                                                                     | 2/100 [01:07<54:29, 33.36s/it]"
     ]
    },
    {
     "name": "stdout",
     "output_type": "stream",
     "text": [
      "Validation Loss:0.3521791696548462\n",
      "Training Loss:0.33945969233772416\n"
     ]
    },
    {
     "name": "stderr",
     "output_type": "stream",
     "text": [
      "  3%|█████                                                                                                                                                                    | 3/100 [01:39<52:52, 32.71s/it]"
     ]
    },
    {
     "name": "stdout",
     "output_type": "stream",
     "text": [
      "Validation Loss:0.30252277851104736\n",
      "Training Loss:0.30178307981221375\n"
     ]
    },
    {
     "name": "stderr",
     "output_type": "stream",
     "text": [
      "  4%|██████▊                                                                                                                                                                  | 4/100 [02:11<51:49, 32.39s/it]"
     ]
    },
    {
     "name": "stdout",
     "output_type": "stream",
     "text": [
      "Validation Loss:0.2704378068447113\n",
      "Training Loss:0.2750782573172224\n"
     ]
    },
    {
     "name": "stderr",
     "output_type": "stream",
     "text": [
      "  5%|████████▍                                                                                                                                                                | 5/100 [02:43<51:05, 32.27s/it]"
     ]
    },
    {
     "name": "stdout",
     "output_type": "stream",
     "text": [
      "Validation Loss:0.24684137105941772\n",
      "Training Loss:0.25386820159446977\n"
     ]
    },
    {
     "name": "stderr",
     "output_type": "stream",
     "text": [
      "  6%|██████████▏                                                                                                                                                              | 6/100 [03:15<50:16, 32.09s/it]"
     ]
    },
    {
     "name": "stdout",
     "output_type": "stream",
     "text": [
      "Validation Loss:0.22642900049686432\n",
      "Training Loss:0.23587666059125575\n"
     ]
    },
    {
     "name": "stderr",
     "output_type": "stream",
     "text": [
      "  7%|███████████▊                                                                                                                                                             | 7/100 [03:46<49:39, 32.03s/it]"
     ]
    },
    {
     "name": "stdout",
     "output_type": "stream",
     "text": [
      "Validation Loss:0.20970678329467773\n",
      "Training Loss:0.22071139005548546\n"
     ]
    },
    {
     "name": "stderr",
     "output_type": "stream",
     "text": [
      "  8%|█████████████▌                                                                                                                                                           | 8/100 [04:18<48:58, 31.94s/it]"
     ]
    },
    {
     "name": "stdout",
     "output_type": "stream",
     "text": [
      "Validation Loss:0.19535280764102936\n",
      "Training Loss:0.20812005412107853\n"
     ]
    },
    {
     "name": "stderr",
     "output_type": "stream",
     "text": [
      "  9%|███████████████▏                                                                                                                                                         | 9/100 [04:50<48:30, 31.98s/it]"
     ]
    },
    {
     "name": "stdout",
     "output_type": "stream",
     "text": [
      "Validation Loss:0.18366779386997223\n",
      "Training Loss:0.1974781814767813\n"
     ]
    },
    {
     "name": "stderr",
     "output_type": "stream",
     "text": [
      " 10%|████████████████▊                                                                                                                                                       | 10/100 [05:22<47:54, 31.94s/it]"
     ]
    },
    {
     "name": "stdout",
     "output_type": "stream",
     "text": [
      "Validation Loss:0.17335379123687744\n",
      "Training Loss:0.18836713622830084\n"
     ]
    },
    {
     "name": "stderr",
     "output_type": "stream",
     "text": [
      " 11%|██████████████████▍                                                                                                                                                     | 11/100 [05:54<47:22, 31.94s/it]"
     ]
    },
    {
     "name": "stdout",
     "output_type": "stream",
     "text": [
      "Validation Loss:0.1651000827550888\n",
      "Training Loss:0.1806589536599441\n"
     ]
    },
    {
     "name": "stderr",
     "output_type": "stream",
     "text": [
      " 12%|████████████████████▏                                                                                                                                                   | 12/100 [06:26<46:45, 31.88s/it]"
     ]
    },
    {
     "name": "stdout",
     "output_type": "stream",
     "text": [
      "Validation Loss:0.15793411433696747\n",
      "Training Loss:0.1739558858226432\n"
     ]
    },
    {
     "name": "stderr",
     "output_type": "stream",
     "text": [
      " 13%|█████████████████████▊                                                                                                                                                  | 13/100 [06:58<46:10, 31.85s/it]"
     ]
    },
    {
     "name": "stdout",
     "output_type": "stream",
     "text": [
      "Validation Loss:0.1513809710741043\n",
      "Training Loss:0.16860527544418547\n"
     ]
    },
    {
     "name": "stderr",
     "output_type": "stream",
     "text": [
      " 14%|███████████████████████▌                                                                                                                                                | 14/100 [07:29<45:36, 31.82s/it]"
     ]
    },
    {
     "name": "stdout",
     "output_type": "stream",
     "text": [
      "Validation Loss:0.14647416770458221\n",
      "Training Loss:0.16380295526383398\n"
     ]
    },
    {
     "name": "stderr",
     "output_type": "stream",
     "text": [
      " 15%|█████████████████████████▏                                                                                                                                              | 15/100 [08:01<45:09, 31.88s/it]"
     ]
    },
    {
     "name": "stdout",
     "output_type": "stream",
     "text": [
      "Validation Loss:0.14182311296463013\n",
      "Training Loss:0.15929260869036363\n"
     ]
    },
    {
     "name": "stderr",
     "output_type": "stream",
     "text": [
      " 16%|██████████████████████████▉                                                                                                                                             | 16/100 [08:33<44:37, 31.88s/it]"
     ]
    },
    {
     "name": "stdout",
     "output_type": "stream",
     "text": [
      "Validation Loss:0.1379847526550293\n",
      "Training Loss:0.15582828223705292\n"
     ]
    },
    {
     "name": "stderr",
     "output_type": "stream",
     "text": [
      " 17%|████████████████████████████▌                                                                                                                                           | 17/100 [09:05<44:07, 31.90s/it]"
     ]
    },
    {
     "name": "stdout",
     "output_type": "stream",
     "text": [
      "Validation Loss:0.1346650868654251\n",
      "Training Loss:0.15238867361364905\n"
     ]
    },
    {
     "name": "stderr",
     "output_type": "stream",
     "text": [
      " 18%|██████████████████████████████▏                                                                                                                                         | 18/100 [09:37<43:36, 31.91s/it]"
     ]
    },
    {
     "name": "stdout",
     "output_type": "stream",
     "text": [
      "Validation Loss:0.13122762739658356\n",
      "Training Loss:0.14962371590615844\n"
     ]
    },
    {
     "name": "stderr",
     "output_type": "stream",
     "text": [
      " 19%|███████████████████████████████▉                                                                                                                                        | 19/100 [10:09<43:04, 31.91s/it]"
     ]
    },
    {
     "name": "stdout",
     "output_type": "stream",
     "text": [
      "Validation Loss:0.12839148938655853\n",
      "Training Loss:0.14669193565972713\n"
     ]
    },
    {
     "name": "stderr",
     "output_type": "stream",
     "text": [
      " 20%|█████████████████████████████████▌                                                                                                                                      | 20/100 [10:41<42:28, 31.86s/it]"
     ]
    },
    {
     "name": "stdout",
     "output_type": "stream",
     "text": [
      "Validation Loss:0.12581782042980194\n",
      "Training Loss:0.1443561181950849\n"
     ]
    },
    {
     "name": "stderr",
     "output_type": "stream",
     "text": [
      " 21%|███████████████████████████████████▎                                                                                                                                    | 21/100 [11:13<41:57, 31.87s/it]"
     ]
    },
    {
     "name": "stdout",
     "output_type": "stream",
     "text": [
      "Validation Loss:0.12370019406080246\n",
      "Training Loss:0.1417963233564681\n"
     ]
    },
    {
     "name": "stderr",
     "output_type": "stream",
     "text": [
      " 22%|████████████████████████████████████▉                                                                                                                                   | 22/100 [11:44<41:22, 31.82s/it]"
     ]
    },
    {
     "name": "stdout",
     "output_type": "stream",
     "text": [
      "Validation Loss:0.12119045853614807\n",
      "Training Loss:0.13953979723672347\n"
     ]
    },
    {
     "name": "stderr",
     "output_type": "stream",
     "text": [
      " 23%|██████████████████████████████████████▋                                                                                                                                 | 23/100 [12:16<40:54, 31.87s/it]"
     ]
    },
    {
     "name": "stdout",
     "output_type": "stream",
     "text": [
      "Validation Loss:0.11928669363260269\n",
      "Training Loss:0.13778360959305452\n"
     ]
    },
    {
     "name": "stderr",
     "output_type": "stream",
     "text": [
      " 24%|████████████████████████████████████████▎                                                                                                                               | 24/100 [12:48<40:17, 31.81s/it]"
     ]
    },
    {
     "name": "stdout",
     "output_type": "stream",
     "text": [
      "Validation Loss:0.11783535033464432\n",
      "Training Loss:0.13561892918168925\n"
     ]
    },
    {
     "name": "stderr",
     "output_type": "stream",
     "text": [
      " 25%|██████████████████████████████████████████                                                                                                                              | 25/100 [13:20<39:48, 31.85s/it]"
     ]
    },
    {
     "name": "stdout",
     "output_type": "stream",
     "text": [
      "Validation Loss:0.11543596535921097\n",
      "Training Loss:0.13370280586413666\n"
     ]
    },
    {
     "name": "stderr",
     "output_type": "stream",
     "text": [
      " 26%|███████████████████████████████████████████▋                                                                                                                            | 26/100 [13:52<39:13, 31.80s/it]"
     ]
    },
    {
     "name": "stdout",
     "output_type": "stream",
     "text": [
      "Validation Loss:0.11382640153169632\n",
      "Training Loss:0.1322067249864499\n"
     ]
    },
    {
     "name": "stderr",
     "output_type": "stream",
     "text": [
      " 27%|█████████████████████████████████████████████▎                                                                                                                          | 27/100 [14:24<38:44, 31.84s/it]"
     ]
    },
    {
     "name": "stdout",
     "output_type": "stream",
     "text": [
      "Validation Loss:0.1117362380027771\n",
      "Training Loss:0.13026324627779845\n"
     ]
    },
    {
     "name": "stderr",
     "output_type": "stream",
     "text": [
      " 28%|███████████████████████████████████████████████                                                                                                                         | 28/100 [14:55<37:59, 31.66s/it]"
     ]
    },
    {
     "name": "stdout",
     "output_type": "stream",
     "text": [
      "Validation Loss:0.11064361780881882\n",
      "Training Loss:0.12901171963968042\n"
     ]
    },
    {
     "name": "stderr",
     "output_type": "stream",
     "text": [
      " 29%|████████████████████████████████████████████████▋                                                                                                                       | 29/100 [15:26<37:24, 31.61s/it]"
     ]
    },
    {
     "name": "stdout",
     "output_type": "stream",
     "text": [
      "Validation Loss:0.10862791538238525\n",
      "Training Loss:0.1273014224596568\n"
     ]
    },
    {
     "name": "stderr",
     "output_type": "stream",
     "text": [
      " 30%|██████████████████████████████████████████████████▍                                                                                                                     | 30/100 [15:58<36:45, 31.51s/it]"
     ]
    },
    {
     "name": "stdout",
     "output_type": "stream",
     "text": [
      "Validation Loss:0.10748612880706787\n",
      "Training Loss:0.12604475042831428\n"
     ]
    },
    {
     "name": "stderr",
     "output_type": "stream",
     "text": [
      " 31%|████████████████████████████████████████████████████                                                                                                                    | 31/100 [16:29<36:14, 31.51s/it]"
     ]
    },
    {
     "name": "stdout",
     "output_type": "stream",
     "text": [
      "Validation Loss:0.10608324408531189\n",
      "Training Loss:0.12452929997329651\n"
     ]
    },
    {
     "name": "stderr",
     "output_type": "stream",
     "text": [
      " 32%|█████████████████████████████████████████████████████▊                                                                                                                  | 32/100 [17:00<35:37, 31.43s/it]"
     ]
    },
    {
     "name": "stdout",
     "output_type": "stream",
     "text": [
      "Validation Loss:0.10453086346387863\n",
      "Training Loss:0.12301765886416685\n"
     ]
    },
    {
     "name": "stderr",
     "output_type": "stream",
     "text": [
      " 33%|███████████████████████████████████████████████████████▍                                                                                                                | 33/100 [17:32<35:04, 31.41s/it]"
     ]
    },
    {
     "name": "stdout",
     "output_type": "stream",
     "text": [
      "Validation Loss:0.1032053604722023\n",
      "Training Loss:0.12176784473046931\n"
     ]
    },
    {
     "name": "stderr",
     "output_type": "stream",
     "text": [
      " 34%|█████████████████████████████████████████████████████████                                                                                                               | 34/100 [18:03<34:30, 31.37s/it]"
     ]
    },
    {
     "name": "stdout",
     "output_type": "stream",
     "text": [
      "Validation Loss:0.1022205799818039\n",
      "Training Loss:0.1205523204189609\n"
     ]
    },
    {
     "name": "stderr",
     "output_type": "stream",
     "text": [
      " 35%|██████████████████████████████████████████████████████████▊                                                                                                             | 35/100 [18:34<33:59, 31.38s/it]"
     ]
    },
    {
     "name": "stdout",
     "output_type": "stream",
     "text": [
      "Validation Loss:0.10079987347126007\n",
      "Training Loss:0.11933670085611313\n"
     ]
    },
    {
     "name": "stderr",
     "output_type": "stream",
     "text": [
      " 36%|████████████████████████████████████████████████████████████▍                                                                                                           | 36/100 [19:06<33:26, 31.35s/it]"
     ]
    },
    {
     "name": "stdout",
     "output_type": "stream",
     "text": [
      "Validation Loss:0.09985226392745972\n",
      "Training Loss:0.11844476826862693\n"
     ]
    },
    {
     "name": "stderr",
     "output_type": "stream",
     "text": [
      " 37%|██████████████████████████████████████████████████████████████▏                                                                                                         | 37/100 [19:37<32:56, 31.37s/it]"
     ]
    },
    {
     "name": "stdout",
     "output_type": "stream",
     "text": [
      "Validation Loss:0.09875304251909256\n",
      "Training Loss:0.11741378912135657\n"
     ]
    },
    {
     "name": "stderr",
     "output_type": "stream",
     "text": [
      " 38%|███████████████████████████████████████████████████████████████▊                                                                                                        | 38/100 [20:09<32:26, 31.40s/it]"
     ]
    },
    {
     "name": "stdout",
     "output_type": "stream",
     "text": [
      "Validation Loss:0.09812699258327484\n",
      "Training Loss:0.11642980483323813\n"
     ]
    },
    {
     "name": "stderr",
     "output_type": "stream",
     "text": [
      " 39%|█████████████████████████████████████████████████████████████████▌                                                                                                      | 39/100 [20:40<32:01, 31.49s/it]"
     ]
    },
    {
     "name": "stdout",
     "output_type": "stream",
     "text": [
      "Validation Loss:0.09713870286941528\n",
      "Training Loss:0.11532196031213443\n"
     ]
    },
    {
     "name": "stderr",
     "output_type": "stream",
     "text": [
      " 40%|███████████████████████████████████████████████████████████████████▏                                                                                                    | 40/100 [21:12<31:26, 31.44s/it]"
     ]
    },
    {
     "name": "stdout",
     "output_type": "stream",
     "text": [
      "Validation Loss:0.09613022953271866\n",
      "Training Loss:0.11468421885686089\n"
     ]
    },
    {
     "name": "stderr",
     "output_type": "stream",
     "text": [
      " 41%|████████████████████████████████████████████████████████████████████▉                                                                                                   | 41/100 [21:43<30:53, 31.41s/it]"
     ]
    },
    {
     "name": "stdout",
     "output_type": "stream",
     "text": [
      "Validation Loss:0.09537271410226822\n",
      "Training Loss:0.1137355967894944\n"
     ]
    },
    {
     "name": "stderr",
     "output_type": "stream",
     "text": [
      " 42%|██████████████████████████████████████████████████████████████████████▌                                                                                                 | 42/100 [22:14<30:21, 31.41s/it]"
     ]
    },
    {
     "name": "stdout",
     "output_type": "stream",
     "text": [
      "Validation Loss:0.0948001891374588\n",
      "Training Loss:0.113324368768148\n"
     ]
    },
    {
     "name": "stderr",
     "output_type": "stream",
     "text": [
      " 43%|████████████████████████████████████████████████████████████████████████▏                                                                                               | 43/100 [22:46<29:50, 31.42s/it]"
     ]
    },
    {
     "name": "stdout",
     "output_type": "stream",
     "text": [
      "Validation Loss:0.094425730407238\n",
      "Training Loss:0.1123990368579088\n"
     ]
    },
    {
     "name": "stderr",
     "output_type": "stream",
     "text": [
      " 44%|█████████████████████████████████████████████████████████████████████████▉                                                                                              | 44/100 [23:17<29:18, 31.40s/it]"
     ]
    },
    {
     "name": "stdout",
     "output_type": "stream",
     "text": [
      "Validation Loss:0.09354165941476822\n",
      "Training Loss:0.11140766740640429\n"
     ]
    },
    {
     "name": "stderr",
     "output_type": "stream",
     "text": [
      " 45%|███████████████████████████████████████████████████████████████████████████▌                                                                                            | 45/100 [23:48<28:46, 31.38s/it]"
     ]
    },
    {
     "name": "stdout",
     "output_type": "stream",
     "text": [
      "Validation Loss:0.09272995591163635\n",
      "Training Loss:0.11082830559164127\n"
     ]
    },
    {
     "name": "stderr",
     "output_type": "stream",
     "text": [
      " 46%|█████████████████████████████████████████████████████████████████████████████▎                                                                                          | 46/100 [24:20<28:14, 31.38s/it]"
     ]
    },
    {
     "name": "stdout",
     "output_type": "stream",
     "text": [
      "Validation Loss:0.09261877834796906\n",
      "Training Loss:0.11074576940359657\n"
     ]
    },
    {
     "name": "stderr",
     "output_type": "stream",
     "text": [
      " 47%|██████████████████████████████████████████████████████████████████████████████▉                                                                                         | 47/100 [24:51<27:43, 31.39s/it]"
     ]
    },
    {
     "name": "stdout",
     "output_type": "stream",
     "text": [
      "Validation Loss:0.09153907746076584\n",
      "Training Loss:0.11001284732985267\n"
     ]
    },
    {
     "name": "stderr",
     "output_type": "stream",
     "text": [
      " 48%|████████████████████████████████████████████████████████████████████████████████▋                                                                                       | 48/100 [25:22<27:09, 31.33s/it]"
     ]
    },
    {
     "name": "stdout",
     "output_type": "stream",
     "text": [
      "Validation Loss:0.09128886461257935\n",
      "Training Loss:0.10941952902708389\n"
     ]
    },
    {
     "name": "stderr",
     "output_type": "stream",
     "text": [
      " 49%|██████████████████████████████████████████████████████████████████████████████████▎                                                                                     | 49/100 [25:54<26:39, 31.36s/it]"
     ]
    },
    {
     "name": "stdout",
     "output_type": "stream",
     "text": [
      "Validation Loss:0.09077556431293488\n",
      "Training Loss:0.10886237239156996\n"
     ]
    },
    {
     "name": "stderr",
     "output_type": "stream",
     "text": [
      " 50%|████████████████████████████████████████████████████████████████████████████████████                                                                                    | 50/100 [26:25<26:05, 31.32s/it]"
     ]
    },
    {
     "name": "stdout",
     "output_type": "stream",
     "text": [
      "Validation Loss:0.09036026895046234\n",
      "Training Loss:0.10847325247723366\n"
     ]
    },
    {
     "name": "stderr",
     "output_type": "stream",
     "text": [
      " 51%|█████████████████████████████████████████████████████████████████████████████████████▋                                                                                  | 51/100 [26:56<25:34, 31.31s/it]"
     ]
    },
    {
     "name": "stdout",
     "output_type": "stream",
     "text": [
      "Validation Loss:0.09010832756757736\n",
      "Training Loss:0.10791483360840645\n"
     ]
    },
    {
     "name": "stderr",
     "output_type": "stream",
     "text": [
      " 52%|███████████████████████████████████████████████████████████████████████████████████████▎                                                                                | 52/100 [27:28<25:02, 31.29s/it]"
     ]
    },
    {
     "name": "stdout",
     "output_type": "stream",
     "text": [
      "Validation Loss:0.08912719786167145\n",
      "Training Loss:0.1077085087908752\n"
     ]
    },
    {
     "name": "stderr",
     "output_type": "stream",
     "text": [
      " 53%|█████████████████████████████████████████████████████████████████████████████████████████                                                                               | 53/100 [27:59<24:31, 31.30s/it]"
     ]
    },
    {
     "name": "stdout",
     "output_type": "stream",
     "text": [
      "Validation Loss:0.08858843892812729\n",
      "Training Loss:0.10697144224619534\n"
     ]
    },
    {
     "name": "stderr",
     "output_type": "stream",
     "text": [
      " 54%|██████████████████████████████████████████████████████████████████████████████████████████▋                                                                             | 54/100 [28:30<23:57, 31.25s/it]"
     ]
    },
    {
     "name": "stdout",
     "output_type": "stream",
     "text": [
      "Validation Loss:0.08831793814897537\n",
      "Training Loss:0.10635983192519928\n"
     ]
    },
    {
     "name": "stderr",
     "output_type": "stream",
     "text": [
      " 55%|████████████████████████████████████████████████████████████████████████████████████████████▍                                                                           | 55/100 [29:02<23:39, 31.54s/it]"
     ]
    },
    {
     "name": "stdout",
     "output_type": "stream",
     "text": [
      "Validation Loss:0.088408462703228\n",
      "Training Loss:0.10593072852177451\n"
     ]
    },
    {
     "name": "stderr",
     "output_type": "stream",
     "text": [
      " 56%|██████████████████████████████████████████████████████████████████████████████████████████████                                                                          | 56/100 [29:35<23:28, 32.02s/it]"
     ]
    },
    {
     "name": "stdout",
     "output_type": "stream",
     "text": [
      "Validation Loss:0.08764520287513733\n",
      "Training Loss:0.10548909796499265\n"
     ]
    },
    {
     "name": "stderr",
     "output_type": "stream",
     "text": [
      " 57%|███████████████████████████████████████████████████████████████████████████████████████████████▊                                                                        | 57/100 [30:07<22:48, 31.83s/it]"
     ]
    },
    {
     "name": "stdout",
     "output_type": "stream",
     "text": [
      "Validation Loss:0.08746041357517242\n",
      "Training Loss:0.10540526370610347\n"
     ]
    },
    {
     "name": "stderr",
     "output_type": "stream",
     "text": [
      " 58%|█████████████████████████████████████████████████████████████████████████████████████████████████▍                                                                      | 58/100 [30:38<22:10, 31.67s/it]"
     ]
    },
    {
     "name": "stdout",
     "output_type": "stream",
     "text": [
      "Validation Loss:0.08707952499389648\n",
      "Training Loss:0.1047261470378145\n"
     ]
    },
    {
     "name": "stderr",
     "output_type": "stream",
     "text": [
      " 59%|███████████████████████████████████████████████████████████████████████████████████████████████████                                                                     | 59/100 [31:09<21:35, 31.59s/it]"
     ]
    },
    {
     "name": "stdout",
     "output_type": "stream",
     "text": [
      "Validation Loss:0.08706385642290115\n",
      "Training Loss:0.10444088489326113\n"
     ]
    },
    {
     "name": "stderr",
     "output_type": "stream",
     "text": [
      " 60%|████████████████████████████████████████████████████████████████████████████████████████████████████▊                                                                   | 60/100 [31:41<20:58, 31.46s/it]"
     ]
    },
    {
     "name": "stdout",
     "output_type": "stream",
     "text": [
      "Validation Loss:0.08627359569072723\n",
      "Training Loss:0.1042335582628703\n"
     ]
    },
    {
     "name": "stderr",
     "output_type": "stream",
     "text": [
      " 61%|██████████████████████████████████████████████████████████████████████████████████████████████████████▍                                                                 | 61/100 [32:12<20:27, 31.48s/it]"
     ]
    },
    {
     "name": "stdout",
     "output_type": "stream",
     "text": [
      "Validation Loss:0.08553172647953033\n",
      "Training Loss:0.10381952385351523\n"
     ]
    },
    {
     "name": "stderr",
     "output_type": "stream",
     "text": [
      " 62%|████████████████████████████████████████████████████████████████████████████████████████████████████████▏                                                               | 62/100 [32:44<19:54, 31.45s/it]"
     ]
    },
    {
     "name": "stdout",
     "output_type": "stream",
     "text": [
      "Validation Loss:0.08547557145357132\n",
      "Training Loss:0.10374841562361957\n"
     ]
    },
    {
     "name": "stderr",
     "output_type": "stream",
     "text": [
      " 63%|█████████████████████████████████████████████████████████████████████████████████████████████████████████▊                                                              | 63/100 [33:15<19:23, 31.45s/it]"
     ]
    },
    {
     "name": "stdout",
     "output_type": "stream",
     "text": [
      "Validation Loss:0.08514266461133957\n",
      "Training Loss:0.10301788126614457\n"
     ]
    },
    {
     "name": "stderr",
     "output_type": "stream",
     "text": [
      " 64%|███████████████████████████████████████████████████████████████████████████████████████████████████████████▌                                                            | 64/100 [33:46<18:51, 31.43s/it]"
     ]
    },
    {
     "name": "stdout",
     "output_type": "stream",
     "text": [
      "Validation Loss:0.08490175008773804\n",
      "Training Loss:0.10319100278196111\n"
     ]
    },
    {
     "name": "stderr",
     "output_type": "stream",
     "text": [
      " 65%|█████████████████████████████████████████████████████████████████████████████████████████████████████████████▏                                                          | 65/100 [34:18<18:19, 31.41s/it]"
     ]
    },
    {
     "name": "stdout",
     "output_type": "stream",
     "text": [
      "Validation Loss:0.08463984727859497\n",
      "Training Loss:0.10277145668434867\n"
     ]
    },
    {
     "name": "stderr",
     "output_type": "stream",
     "text": [
      " 66%|██████████████████████████████████████████████████████████████████████████████████████████████████████████████▉                                                         | 66/100 [34:49<17:47, 31.40s/it]"
     ]
    },
    {
     "name": "stdout",
     "output_type": "stream",
     "text": [
      "Validation Loss:0.08432047814130783\n",
      "Training Loss:0.10262761328651658\n"
     ]
    },
    {
     "name": "stderr",
     "output_type": "stream",
     "text": [
      " 67%|████████████████████████████████████████████████████████████████████████████████████████████████████████████████▌                                                       | 67/100 [35:21<17:17, 31.43s/it]"
     ]
    },
    {
     "name": "stdout",
     "output_type": "stream",
     "text": [
      "Validation Loss:0.08452395349740982\n",
      "Training Loss:0.10230931708054455\n"
     ]
    },
    {
     "name": "stderr",
     "output_type": "stream",
     "text": [
      " 68%|██████████████████████████████████████████████████████████████████████████████████████████████████████████████████▏                                                     | 68/100 [35:52<16:43, 31.36s/it]"
     ]
    },
    {
     "name": "stdout",
     "output_type": "stream",
     "text": [
      "Validation Loss:0.08396250009536743\n",
      "Training Loss:0.10214908813049851\n"
     ]
    },
    {
     "name": "stderr",
     "output_type": "stream",
     "text": [
      " 69%|███████████████████████████████████████████████████████████████████████████████████████████████████████████████████▉                                                    | 69/100 [36:23<16:13, 31.41s/it]"
     ]
    },
    {
     "name": "stdout",
     "output_type": "stream",
     "text": [
      "Validation Loss:0.08368685841560364\n",
      "Training Loss:0.10139426235964356\n"
     ]
    },
    {
     "name": "stderr",
     "output_type": "stream",
     "text": [
      " 70%|█████████████████████████████████████████████████████████████████████████████████████████████████████████████████████▌                                                  | 70/100 [36:55<15:41, 31.40s/it]"
     ]
    },
    {
     "name": "stdout",
     "output_type": "stream",
     "text": [
      "Validation Loss:0.08335493505001068\n",
      "Training Loss:0.10129820629397732\n"
     ]
    },
    {
     "name": "stderr",
     "output_type": "stream",
     "text": [
      " 71%|███████████████████████████████████████████████████████████████████████████████████████████████████████████████████████▎                                                | 71/100 [37:26<15:12, 31.46s/it]"
     ]
    },
    {
     "name": "stdout",
     "output_type": "stream",
     "text": [
      "Validation Loss:0.08293735235929489\n",
      "Training Loss:0.10124741069248926\n"
     ]
    },
    {
     "name": "stderr",
     "output_type": "stream",
     "text": [
      " 72%|████████████████████████████████████████████████████████████████████████████████████████████████████████████████████████▉                                               | 72/100 [37:58<14:40, 31.45s/it]"
     ]
    },
    {
     "name": "stdout",
     "output_type": "stream",
     "text": [
      "Validation Loss:0.08313612639904022\n",
      "Training Loss:0.10080047005046013\n"
     ]
    },
    {
     "name": "stderr",
     "output_type": "stream",
     "text": [
      " 73%|██████████████████████████████████████████████████████████████████████████████████████████████████████████████████████████▋                                             | 73/100 [38:29<14:08, 31.43s/it]"
     ]
    },
    {
     "name": "stdout",
     "output_type": "stream",
     "text": [
      "Validation Loss:0.08306821435689926\n",
      "Training Loss:0.10069426486274603\n"
     ]
    },
    {
     "name": "stderr",
     "output_type": "stream",
     "text": [
      " 74%|████████████████████████████████████████████████████████████████████████████████████████████████████████████████████████████▎                                           | 74/100 [39:00<13:35, 31.38s/it]"
     ]
    },
    {
     "name": "stdout",
     "output_type": "stream",
     "text": [
      "Validation Loss:0.08266063034534454\n",
      "Training Loss:0.10053649064443664\n"
     ]
    },
    {
     "name": "stderr",
     "output_type": "stream",
     "text": [
      " 75%|██████████████████████████████████████████████████████████████████████████████████████████████████████████████████████████████                                          | 75/100 [39:32<13:05, 31.41s/it]"
     ]
    },
    {
     "name": "stdout",
     "output_type": "stream",
     "text": [
      "Validation Loss:0.08286476880311966\n",
      "Training Loss:0.10036285388558754\n"
     ]
    },
    {
     "name": "stderr",
     "output_type": "stream",
     "text": [
      " 76%|███████████████████████████████████████████████████████████████████████████████████████████████████████████████████████████████▋                                        | 76/100 [40:03<12:33, 31.41s/it]"
     ]
    },
    {
     "name": "stdout",
     "output_type": "stream",
     "text": [
      "Validation Loss:0.08254048228263855\n",
      "Training Loss:0.100244339201659\n"
     ]
    },
    {
     "name": "stderr",
     "output_type": "stream",
     "text": [
      " 77%|█████████████████████████████████████████████████████████████████████████████████████████████████████████████████████████████████▎                                      | 77/100 [40:35<12:03, 31.45s/it]"
     ]
    },
    {
     "name": "stdout",
     "output_type": "stream",
     "text": [
      "Validation Loss:0.08220996707677841\n",
      "Training Loss:0.09991865240140811\n"
     ]
    },
    {
     "name": "stderr",
     "output_type": "stream",
     "text": [
      " 78%|███████████████████████████████████████████████████████████████████████████████████████████████████████████████████████████████████                                     | 78/100 [41:06<11:31, 31.41s/it]"
     ]
    },
    {
     "name": "stdout",
     "output_type": "stream",
     "text": [
      "Validation Loss:0.0818217545747757\n",
      "Training Loss:0.09991500715117826\n"
     ]
    },
    {
     "name": "stderr",
     "output_type": "stream",
     "text": [
      " 79%|████████████████████████████████████████████████████████████████████████████████████████████████████████████████████████████████████▋                                   | 79/100 [41:38<11:00, 31.43s/it]"
     ]
    },
    {
     "name": "stdout",
     "output_type": "stream",
     "text": [
      "Validation Loss:0.08154113590717316\n",
      "Training Loss:0.09972956953938004\n"
     ]
    },
    {
     "name": "stderr",
     "output_type": "stream",
     "text": [
      " 80%|██████████████████████████████████████████████████████████████████████████████████████████████████████████████████████████████████████▍                                 | 80/100 [42:09<10:27, 31.37s/it]"
     ]
    },
    {
     "name": "stdout",
     "output_type": "stream",
     "text": [
      "Validation Loss:0.08183549344539642\n",
      "Training Loss:0.09921764216625321\n"
     ]
    },
    {
     "name": "stderr",
     "output_type": "stream",
     "text": [
      " 81%|████████████████████████████████████████████████████████████████████████████████████████████████████████████████████████████████████████                                | 81/100 [42:40<09:56, 31.38s/it]"
     ]
    },
    {
     "name": "stdout",
     "output_type": "stream",
     "text": [
      "Validation Loss:0.0815175473690033\n",
      "Training Loss:0.0994713432935793\n"
     ]
    },
    {
     "name": "stderr",
     "output_type": "stream",
     "text": [
      " 82%|█████████████████████████████████████████████████████████████████████████████████████████████████████████████████████████████████████████▊                              | 82/100 [43:11<09:23, 31.32s/it]"
     ]
    },
    {
     "name": "stdout",
     "output_type": "stream",
     "text": [
      "Validation Loss:0.08199562132358551\n",
      "Training Loss:0.09932515324911415\n"
     ]
    },
    {
     "name": "stderr",
     "output_type": "stream",
     "text": [
      " 83%|███████████████████████████████████████████████████████████████████████████████████████████████████████████████████████████████████████████▍                            | 83/100 [43:43<08:53, 31.37s/it]"
     ]
    },
    {
     "name": "stdout",
     "output_type": "stream",
     "text": [
      "Validation Loss:0.08119891583919525\n",
      "Training Loss:0.09874114909446863\n"
     ]
    },
    {
     "name": "stderr",
     "output_type": "stream",
     "text": [
      " 84%|█████████████████████████████████████████████████████████████████████████████████████████████████████████████████████████████████████████████                           | 84/100 [44:14<08:21, 31.37s/it]"
     ]
    },
    {
     "name": "stdout",
     "output_type": "stream",
     "text": [
      "Validation Loss:0.08140374720096588\n",
      "Training Loss:0.09905261116195768\n"
     ]
    },
    {
     "name": "stderr",
     "output_type": "stream",
     "text": [
      " 85%|██████████████████████████████████████████████████████████████████████████████████████████████████████████████████████████████████████████████▊                         | 85/100 [44:46<07:50, 31.38s/it]"
     ]
    },
    {
     "name": "stdout",
     "output_type": "stream",
     "text": [
      "Validation Loss:0.08153379708528519\n",
      "Training Loss:0.09864493030875826\n"
     ]
    },
    {
     "name": "stderr",
     "output_type": "stream",
     "text": [
      " 86%|████████████████████████████████████████████████████████████████████████████████████████████████████████████████████████████████████████████████▍                       | 86/100 [45:17<07:18, 31.35s/it]"
     ]
    },
    {
     "name": "stdout",
     "output_type": "stream",
     "text": [
      "Validation Loss:0.08145132660865784\n",
      "Training Loss:0.09876137710272821\n"
     ]
    },
    {
     "name": "stderr",
     "output_type": "stream",
     "text": [
      " 87%|██████████████████████████████████████████████████████████████████████████████████████████████████████████████████████████████████████████████████▏                     | 87/100 [45:48<06:47, 31.38s/it]"
     ]
    },
    {
     "name": "stdout",
     "output_type": "stream",
     "text": [
      "Validation Loss:0.08095798641443253\n",
      "Training Loss:0.09814523335391201\n"
     ]
    },
    {
     "name": "stderr",
     "output_type": "stream",
     "text": [
      " 88%|███████████████████████████████████████████████████████████████████████████████████████████████████████████████████████████████████████████████████▊                    | 88/100 [46:20<06:16, 31.36s/it]"
     ]
    },
    {
     "name": "stdout",
     "output_type": "stream",
     "text": [
      "Validation Loss:0.08041251450777054\n",
      "Training Loss:0.09849447452462216\n"
     ]
    },
    {
     "name": "stderr",
     "output_type": "stream",
     "text": [
      " 89%|█████████████████████████████████████████████████████████████████████████████████████████████████████████████████████████████████████████████████████▌                  | 89/100 [46:51<05:44, 31.36s/it]"
     ]
    },
    {
     "name": "stdout",
     "output_type": "stream",
     "text": [
      "Validation Loss:0.08040433377027512\n",
      "Training Loss:0.09841066641035304\n"
     ]
    },
    {
     "name": "stderr",
     "output_type": "stream",
     "text": [
      " 90%|███████████████████████████████████████████████████████████████████████████████████████████████████████████████████████████████████████████████████████▏                | 90/100 [47:22<05:12, 31.24s/it]"
     ]
    },
    {
     "name": "stdout",
     "output_type": "stream",
     "text": [
      "Validation Loss:0.08075933903455734\n",
      "Training Loss:0.09815030564079925\n"
     ]
    },
    {
     "name": "stderr",
     "output_type": "stream",
     "text": [
      " 91%|████████████████████████████████████████████████████████████████████████████████████████████████████████████████████████████████████████████████████████▉               | 91/100 [47:53<04:41, 31.29s/it]"
     ]
    },
    {
     "name": "stdout",
     "output_type": "stream",
     "text": [
      "Validation Loss:0.08022449165582657\n",
      "Training Loss:0.09774843459449939\n"
     ]
    },
    {
     "name": "stderr",
     "output_type": "stream",
     "text": [
      " 92%|██████████████████████████████████████████████████████████████████████████████████████████████████████████████████████████████████████████████████████████▌             | 92/100 [48:25<04:10, 31.26s/it]"
     ]
    },
    {
     "name": "stdout",
     "output_type": "stream",
     "text": [
      "Validation Loss:0.08007345348596573\n",
      "Training Loss:0.09756470031901128\n"
     ]
    },
    {
     "name": "stderr",
     "output_type": "stream",
     "text": [
      " 93%|████████████████████████████████████████████████████████████████████████████████████████████████████████████████████████████████████████████████████████████▏           | 93/100 [48:56<03:38, 31.28s/it]"
     ]
    },
    {
     "name": "stdout",
     "output_type": "stream",
     "text": [
      "Validation Loss:0.0805477499961853\n",
      "Training Loss:0.09778318722735346\n"
     ]
    },
    {
     "name": "stderr",
     "output_type": "stream",
     "text": [
      " 94%|█████████████████████████████████████████████████████████████████████████████████████████████████████████████████████████████████████████████████████████████▉          | 94/100 [49:27<03:07, 31.28s/it]"
     ]
    },
    {
     "name": "stdout",
     "output_type": "stream",
     "text": [
      "Validation Loss:0.07970724254846573\n",
      "Training Loss:0.09776819607077948\n"
     ]
    },
    {
     "name": "stderr",
     "output_type": "stream",
     "text": [
      " 95%|███████████████████████████████████████████████████████████████████████████████████████████████████████████████████████████████████████████████████████████████▌        | 95/100 [49:59<02:36, 31.34s/it]"
     ]
    },
    {
     "name": "stdout",
     "output_type": "stream",
     "text": [
      "Validation Loss:0.07987888902425766\n",
      "Training Loss:0.09745630392906124\n"
     ]
    },
    {
     "name": "stderr",
     "output_type": "stream",
     "text": [
      " 96%|█████████████████████████████████████████████████████████████████████████████████████████████████████████████████████████████████████████████████████████████████▎      | 96/100 [50:30<02:05, 31.28s/it]"
     ]
    },
    {
     "name": "stdout",
     "output_type": "stream",
     "text": [
      "Validation Loss:0.0795338973402977\n",
      "Training Loss:0.09755269880928377\n"
     ]
    },
    {
     "name": "stderr",
     "output_type": "stream",
     "text": [
      " 97%|██████████████████████████████████████████████████████████████████████████████████████████████████████████████████████████████████████████████████████████████████▉     | 97/100 [51:01<01:34, 31.33s/it]"
     ]
    },
    {
     "name": "stdout",
     "output_type": "stream",
     "text": [
      "Validation Loss:0.07955276966094971\n",
      "Training Loss:0.09703449410333705\n"
     ]
    },
    {
     "name": "stderr",
     "output_type": "stream",
     "text": [
      " 98%|████████████████████████████████████████████████████████████████████████████████████████████████████████████████████████████████████████████████████████████████████▋   | 98/100 [51:33<01:02, 31.28s/it]"
     ]
    },
    {
     "name": "stdout",
     "output_type": "stream",
     "text": [
      "Validation Loss:0.0794445127248764\n",
      "Training Loss:0.09704241059569438\n"
     ]
    },
    {
     "name": "stderr",
     "output_type": "stream",
     "text": [
      " 99%|██████████████████████████████████████████████████████████████████████████████████████████████████████████████████████████████████████████████████████████████████████▎ | 99/100 [52:04<00:31, 31.29s/it]"
     ]
    },
    {
     "name": "stdout",
     "output_type": "stream",
     "text": [
      "Validation Loss:0.07907932251691818\n",
      "Training Loss:0.09698600342682102\n"
     ]
    },
    {
     "name": "stderr",
     "output_type": "stream",
     "text": [
      "100%|███████████████████████████████████████████████████████████████████████████████████████████████████████████████████████████████████████████████████████████████████████| 100/100 [52:35<00:00, 31.56s/it]"
     ]
    },
    {
     "name": "stdout",
     "output_type": "stream",
     "text": [
      "Validation Loss:0.07944981753826141\n"
     ]
    },
    {
     "name": "stderr",
     "output_type": "stream",
     "text": [
      "\n"
     ]
    }
   ],
   "source": [
    "# training loop\n",
    "train_loss = []\n",
    "val_loss = []\n",
    "for i in tqdm(range(epoch)):\n",
    "    model.train()\n",
    "    \n",
    "    total_loss = 0.00\n",
    "    for bx, (images, targets) in enumerate(train_loader):\n",
    "        images, targets = images.to(device), targets.to(device)\n",
    "    \n",
    "        optimizer.zero_grad()\n",
    "        # forward pass\n",
    "        output = model(images)\n",
    "        loss = loss_fn(output, images)#loss_fn(output, images)\n",
    "        loss.backward()\n",
    "        optimizer.step()\n",
    "        total_loss += loss.item()\n",
    "\n",
    "    # log losses\n",
    "    print(f\"Training Loss:{total_loss/bx}\")\n",
    "    train_loss.append(total_loss/bx)\n",
    "    \n",
    "    # validation step\n",
    "    model.eval()\n",
    "    \n",
    "    for bx, (images, targets) in enumerate(val_loader):\n",
    "        images, targets = images.to(device), targets.to(device) \n",
    "\n",
    "        output = model(images)\n",
    "        loss = loss_fn(output, images)#loss_fn(output, images)\n",
    "    \n",
    "    print(f\"Validation Loss:{loss}\")\n",
    "    val_loss.append(loss)\n",
    "        \n",
    "    "
   ]
  },
  {
   "cell_type": "code",
   "execution_count": null,
   "id": "a2ba705c-19f2-4195-a0ce-93425d3c2f7b",
   "metadata": {},
   "outputs": [],
   "source": [
    "# plot the loss curves\n",
    "\n",
    "plt.plot([i for i in range(epoch)], train_loss)\n",
    "plt.plot([i for i in range(epoch)], val_loss)"
   ]
  },
  {
   "cell_type": "code",
   "execution_count": 68,
   "id": "85f17016-528f-4c10-9858-8035246c21fc",
   "metadata": {},
   "outputs": [
    {
     "data": {
      "image/png": "[encoded data removed]",
      "text/plain": [
       "<Figure size 640x480 with 1 Axes>"
      ]
     },
     "metadata": {},
     "output_type": "display_data"
    }
   ],
   "source": [
    "# generate new images using the decoder and latent variable \n",
    "\n",
    "test_x = torch.rand(1, 32, 2, 2).to(device)\n",
    "test_y = model.Decoder(test_x).detach()\n",
    "\n",
    "inv_trans = transforms.Normalize((-0.1307/0.3081,), (1/0.3081,))\n",
    "test_y = inv_trans(test_y)\n",
    "test_y = test_y.cpu().numpy().reshape(28,28, 1)\n",
    "test_y = (test_y*255).astype(int)\n",
    "#plt.hist(test_y.flatten())\n",
    "plt.imshow(test_y)\n",
    "plt.show()\n"
   ]
  }
 ],
 "metadata": {
  "kernelspec": {
   "display_name": "Python 3 (ipykernel)",
   "language": "python",
   "name": "python3"
  },
  "language_info": {
   "codemirror_mode": {
    "name": "ipython",
    "version": 3
   },
   "file_extension": ".py",
   "mimetype": "text/x-python",
   "name": "python",
   "nbconvert_exporter": "python",
   "pygments_lexer": "ipython3",
   "version": "3.10.13"
  }
 },
 "nbformat": 4,
 "nbformat_minor": 5
}
